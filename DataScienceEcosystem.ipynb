{
 "cells": [
  {
   "cell_type": "markdown",
   "id": "acbad727-dd61-4dad-aadd-18096d879582",
   "metadata": {},
   "source": [
    "# Data Science Tools and Ecosystem "
   ]
  },
  {
   "cell_type": "markdown",
   "id": "8cdbb755-4bc2-46e8-aefd-86a85283af4a",
   "metadata": {},
   "source": [
    "In this notebook, Data Science Tools and Ecosystem are summarized."
   ]
  },
  {
   "cell_type": "markdown",
   "id": "17e968c9-e739-4910-b340-14d3ad3d05a8",
   "metadata": {},
   "source": [
    "**Objectives:**\n",
    "- List popular languajes for Data Science.\n",
    "- List commonly used libraries for Data Science.\n",
    "- List Data Science tools"
   ]
  },
  {
   "cell_type": "markdown",
   "id": "02572789-b792-4312-87a1-a38e8987f367",
   "metadata": {},
   "source": [
    "Some of the popular languages that Data Scientists use are:\n",
    "1. Python\n",
    "2. R\n",
    "3. SQL\n",
    "4. C++\n",
    "5. Julia"
   ]
  },
  {
   "cell_type": "markdown",
   "id": "cbd2948f-70e5-447c-b2c7-a9fdec853a46",
   "metadata": {},
   "source": [
    "Some of the commonly used libraries used by Data Scientists include:\n",
    "\n",
    "1. Pandas\n",
    "2. Numpy\n",
    "3. Matplotlib\n",
    "4. Seaborn\n",
    "5. dplyr"
   ]
  },
  {
   "cell_type": "markdown",
   "id": "59d3e42a-e200-4afc-b57e-80accef62428",
   "metadata": {},
   "source": [
    "| Data Science Tools |\n",
    "|--------------------|\n",
    "| Jupyter Notebook  |\n",
    "| RStudio           |\n",
    "| Apache Zeppelin   |\n"
   ]
  },
  {
   "cell_type": "markdown",
   "id": "b19ff8aa-38c6-40bb-b905-7a840e300645",
   "metadata": {},
   "source": [
    "Below are a few examples of evaluating arithmetic expressions in Python"
   ]
  },
  {
   "cell_type": "code",
   "execution_count": 14,
   "id": "6e205d55-95bf-4710-b8b5-9ca9b2f1a450",
   "metadata": {},
   "outputs": [
    {
     "data": {
      "text/plain": [
       "17"
      ]
     },
     "execution_count": 14,
     "metadata": {},
     "output_type": "execute_result"
    }
   ],
   "source": [
    "# This a simple arithmetic expression to mutiply then add integers\n",
    "\n",
    "(3*4)+5"
   ]
  },
  {
   "cell_type": "code",
   "execution_count": 16,
   "id": "9952cad2-ebd0-4907-9427-c76f5e2ce53c",
   "metadata": {},
   "outputs": [
    {
     "data": {
      "text/plain": [
       "3.3333333333333335"
      ]
     },
     "execution_count": 16,
     "metadata": {},
     "output_type": "execute_result"
    }
   ],
   "source": [
    "# This will convert 200 minutes to hours by diving by 60\n",
    "\n",
    "200/60"
   ]
  },
  {
   "cell_type": "markdown",
   "id": "337b28ce-d935-4a9d-99b7-5457821a43d4",
   "metadata": {},
   "source": [
    "## Author:\n",
    "Ignacio Cuñado"
   ]
  },
  {
   "cell_type": "code",
   "execution_count": null,
   "id": "89508407-beb1-4600-93cb-7387748ad2a2",
   "metadata": {},
   "outputs": [],
   "source": []
  }
 ],
 "metadata": {
  "kernelspec": {
   "display_name": "Python [conda env:base] *",
   "language": "python",
   "name": "conda-base-py"
  },
  "language_info": {
   "codemirror_mode": {
    "name": "ipython",
    "version": 3
   },
   "file_extension": ".py",
   "mimetype": "text/x-python",
   "name": "python",
   "nbconvert_exporter": "python",
   "pygments_lexer": "ipython3",
   "version": "3.11.5"
  }
 },
 "nbformat": 4,
 "nbformat_minor": 5
}
